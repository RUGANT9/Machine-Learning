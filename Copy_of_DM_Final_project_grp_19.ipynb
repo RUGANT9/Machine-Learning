{
  "nbformat": 4,
  "nbformat_minor": 0,
  "metadata": {
    "colab": {
      "provenance": []
    },
    "kernelspec": {
      "name": "python3",
      "display_name": "Python 3"
    },
    "language_info": {
      "name": "python"
    }
  },
  "cells": [
    {
      "cell_type": "code",
      "execution_count": null,
      "metadata": {
        "id": "b2ECzF6K_Zl2"
      },
      "outputs": [],
      "source": [
        "# import statements\n",
        "import numpy as np\n",
        "import pandas as pd"
      ]
    },
    {
      "cell_type": "code",
      "source": [
        "# importing the data\n",
        "from google.colab import files\n",
        "uploaded = files.upload()\n",
        "# data_1 = pd.read_csv('http://kaggle/input/higher-education-predictors-of-student-retention/dataset.csv')"
      ],
      "metadata": {
        "colab": {
          "base_uri": "https://localhost:8080/",
          "height": 73
        },
        "id": "62-Vmc9YADKK",
        "outputId": "ddac4419-c87b-4b04-9865-016b61232c4c"
      },
      "execution_count": null,
      "outputs": [
        {
          "output_type": "display_data",
          "data": {
            "text/plain": [
              "<IPython.core.display.HTML object>"
            ],
            "text/html": [
              "\n",
              "     <input type=\"file\" id=\"files-bc01d177-a5d6-49a1-9854-4813f41a77a4\" name=\"files[]\" multiple disabled\n",
              "        style=\"border:none\" />\n",
              "     <output id=\"result-bc01d177-a5d6-49a1-9854-4813f41a77a4\">\n",
              "      Upload widget is only available when the cell has been executed in the\n",
              "      current browser session. Please rerun this cell to enable.\n",
              "      </output>\n",
              "      <script>// Copyright 2017 Google LLC\n",
              "//\n",
              "// Licensed under the Apache License, Version 2.0 (the \"License\");\n",
              "// you may not use this file except in compliance with the License.\n",
              "// You may obtain a copy of the License at\n",
              "//\n",
              "//      http://www.apache.org/licenses/LICENSE-2.0\n",
              "//\n",
              "// Unless required by applicable law or agreed to in writing, software\n",
              "// distributed under the License is distributed on an \"AS IS\" BASIS,\n",
              "// WITHOUT WARRANTIES OR CONDITIONS OF ANY KIND, either express or implied.\n",
              "// See the License for the specific language governing permissions and\n",
              "// limitations under the License.\n",
              "\n",
              "/**\n",
              " * @fileoverview Helpers for google.colab Python module.\n",
              " */\n",
              "(function(scope) {\n",
              "function span(text, styleAttributes = {}) {\n",
              "  const element = document.createElement('span');\n",
              "  element.textContent = text;\n",
              "  for (const key of Object.keys(styleAttributes)) {\n",
              "    element.style[key] = styleAttributes[key];\n",
              "  }\n",
              "  return element;\n",
              "}\n",
              "\n",
              "// Max number of bytes which will be uploaded at a time.\n",
              "const MAX_PAYLOAD_SIZE = 100 * 1024;\n",
              "\n",
              "function _uploadFiles(inputId, outputId) {\n",
              "  const steps = uploadFilesStep(inputId, outputId);\n",
              "  const outputElement = document.getElementById(outputId);\n",
              "  // Cache steps on the outputElement to make it available for the next call\n",
              "  // to uploadFilesContinue from Python.\n",
              "  outputElement.steps = steps;\n",
              "\n",
              "  return _uploadFilesContinue(outputId);\n",
              "}\n",
              "\n",
              "// This is roughly an async generator (not supported in the browser yet),\n",
              "// where there are multiple asynchronous steps and the Python side is going\n",
              "// to poll for completion of each step.\n",
              "// This uses a Promise to block the python side on completion of each step,\n",
              "// then passes the result of the previous step as the input to the next step.\n",
              "function _uploadFilesContinue(outputId) {\n",
              "  const outputElement = document.getElementById(outputId);\n",
              "  const steps = outputElement.steps;\n",
              "\n",
              "  const next = steps.next(outputElement.lastPromiseValue);\n",
              "  return Promise.resolve(next.value.promise).then((value) => {\n",
              "    // Cache the last promise value to make it available to the next\n",
              "    // step of the generator.\n",
              "    outputElement.lastPromiseValue = value;\n",
              "    return next.value.response;\n",
              "  });\n",
              "}\n",
              "\n",
              "/**\n",
              " * Generator function which is called between each async step of the upload\n",
              " * process.\n",
              " * @param {string} inputId Element ID of the input file picker element.\n",
              " * @param {string} outputId Element ID of the output display.\n",
              " * @return {!Iterable<!Object>} Iterable of next steps.\n",
              " */\n",
              "function* uploadFilesStep(inputId, outputId) {\n",
              "  const inputElement = document.getElementById(inputId);\n",
              "  inputElement.disabled = false;\n",
              "\n",
              "  const outputElement = document.getElementById(outputId);\n",
              "  outputElement.innerHTML = '';\n",
              "\n",
              "  const pickedPromise = new Promise((resolve) => {\n",
              "    inputElement.addEventListener('change', (e) => {\n",
              "      resolve(e.target.files);\n",
              "    });\n",
              "  });\n",
              "\n",
              "  const cancel = document.createElement('button');\n",
              "  inputElement.parentElement.appendChild(cancel);\n",
              "  cancel.textContent = 'Cancel upload';\n",
              "  const cancelPromise = new Promise((resolve) => {\n",
              "    cancel.onclick = () => {\n",
              "      resolve(null);\n",
              "    };\n",
              "  });\n",
              "\n",
              "  // Wait for the user to pick the files.\n",
              "  const files = yield {\n",
              "    promise: Promise.race([pickedPromise, cancelPromise]),\n",
              "    response: {\n",
              "      action: 'starting',\n",
              "    }\n",
              "  };\n",
              "\n",
              "  cancel.remove();\n",
              "\n",
              "  // Disable the input element since further picks are not allowed.\n",
              "  inputElement.disabled = true;\n",
              "\n",
              "  if (!files) {\n",
              "    return {\n",
              "      response: {\n",
              "        action: 'complete',\n",
              "      }\n",
              "    };\n",
              "  }\n",
              "\n",
              "  for (const file of files) {\n",
              "    const li = document.createElement('li');\n",
              "    li.append(span(file.name, {fontWeight: 'bold'}));\n",
              "    li.append(span(\n",
              "        `(${file.type || 'n/a'}) - ${file.size} bytes, ` +\n",
              "        `last modified: ${\n",
              "            file.lastModifiedDate ? file.lastModifiedDate.toLocaleDateString() :\n",
              "                                    'n/a'} - `));\n",
              "    const percent = span('0% done');\n",
              "    li.appendChild(percent);\n",
              "\n",
              "    outputElement.appendChild(li);\n",
              "\n",
              "    const fileDataPromise = new Promise((resolve) => {\n",
              "      const reader = new FileReader();\n",
              "      reader.onload = (e) => {\n",
              "        resolve(e.target.result);\n",
              "      };\n",
              "      reader.readAsArrayBuffer(file);\n",
              "    });\n",
              "    // Wait for the data to be ready.\n",
              "    let fileData = yield {\n",
              "      promise: fileDataPromise,\n",
              "      response: {\n",
              "        action: 'continue',\n",
              "      }\n",
              "    };\n",
              "\n",
              "    // Use a chunked sending to avoid message size limits. See b/62115660.\n",
              "    let position = 0;\n",
              "    do {\n",
              "      const length = Math.min(fileData.byteLength - position, MAX_PAYLOAD_SIZE);\n",
              "      const chunk = new Uint8Array(fileData, position, length);\n",
              "      position += length;\n",
              "\n",
              "      const base64 = btoa(String.fromCharCode.apply(null, chunk));\n",
              "      yield {\n",
              "        response: {\n",
              "          action: 'append',\n",
              "          file: file.name,\n",
              "          data: base64,\n",
              "        },\n",
              "      };\n",
              "\n",
              "      let percentDone = fileData.byteLength === 0 ?\n",
              "          100 :\n",
              "          Math.round((position / fileData.byteLength) * 100);\n",
              "      percent.textContent = `${percentDone}% done`;\n",
              "\n",
              "    } while (position < fileData.byteLength);\n",
              "  }\n",
              "\n",
              "  // All done.\n",
              "  yield {\n",
              "    response: {\n",
              "      action: 'complete',\n",
              "    }\n",
              "  };\n",
              "}\n",
              "\n",
              "scope.google = scope.google || {};\n",
              "scope.google.colab = scope.google.colab || {};\n",
              "scope.google.colab._files = {\n",
              "  _uploadFiles,\n",
              "  _uploadFilesContinue,\n",
              "};\n",
              "})(self);\n",
              "</script> "
            ]
          },
          "metadata": {}
        },
        {
          "output_type": "stream",
          "name": "stdout",
          "text": [
            "Saving dataset.csv to dataset.csv\n"
          ]
        }
      ]
    },
    {
      "cell_type": "code",
      "source": [
        "for file in uploaded.keys():\n",
        "  data_1 = pd.read_csv(file)\n",
        "print(data_1.sample(5))"
      ],
      "metadata": {
        "colab": {
          "base_uri": "https://localhost:8080/"
        },
        "id": "WDKUgpyILpsK",
        "outputId": "a6cf5867-6469-413d-f686-0cc2661e12a9"
      },
      "execution_count": null,
      "outputs": [
        {
          "output_type": "stream",
          "name": "stdout",
          "text": [
            "      Marital status  Application mode  Application order  Course  \\\n",
            "2922               2                12                  1      10   \n",
            "884                1                 7                  2      12   \n",
            "2749               2                12                  1      17   \n",
            "4058               1                 1                  1       6   \n",
            "988                1                 1                  1      10   \n",
            "\n",
            "      Daytime/evening attendance  Previous qualification  Nacionality  \\\n",
            "2922                           1                      12            1   \n",
            "884                            1                       1            1   \n",
            "2749                           0                       1            1   \n",
            "4058                           1                       1            1   \n",
            "988                            1                       1            1   \n",
            "\n",
            "      Mother's qualification  Father's qualification  Mother's occupation  \\\n",
            "2922                      22                      27                    5   \n",
            "884                        2                      28                    5   \n",
            "2749                      22                      27                   10   \n",
            "4058                       1                       3                   10   \n",
            "988                        2                       2                    4   \n",
            "\n",
            "      ...  Curricular units 2nd sem (credited)  \\\n",
            "2922  ...                                    0   \n",
            "884   ...                                    0   \n",
            "2749  ...                                    0   \n",
            "4058  ...                                    0   \n",
            "988   ...                                    0   \n",
            "\n",
            "      Curricular units 2nd sem (enrolled)  \\\n",
            "2922                                    6   \n",
            "884                                     8   \n",
            "2749                                    5   \n",
            "4058                                    6   \n",
            "988                                     6   \n",
            "\n",
            "      Curricular units 2nd sem (evaluations)  \\\n",
            "2922                                      11   \n",
            "884                                       12   \n",
            "2749                                       6   \n",
            "4058                                       9   \n",
            "988                                       12   \n",
            "\n",
            "      Curricular units 2nd sem (approved)  Curricular units 2nd sem (grade)  \\\n",
            "2922                                    5                            12.400   \n",
            "884                                     7                            12.600   \n",
            "2749                                    5                            11.600   \n",
            "4058                                    6                            12.625   \n",
            "988                                     2                            10.000   \n",
            "\n",
            "      Curricular units 2nd sem (without evaluations)  Unemployment rate  \\\n",
            "2922                                               0               15.5   \n",
            "884                                                0               10.8   \n",
            "2749                                               1                7.6   \n",
            "4058                                               0               15.5   \n",
            "988                                                0               11.1   \n",
            "\n",
            "      Inflation rate   GDP    Target  \n",
            "2922             2.8 -4.06   Dropout  \n",
            "884              1.4  1.74  Graduate  \n",
            "2749             2.6  0.32   Dropout  \n",
            "4058             2.8 -4.06  Graduate  \n",
            "988              0.6  2.02   Dropout  \n",
            "\n",
            "[5 rows x 35 columns]\n"
          ]
        }
      ]
    },
    {
      "cell_type": "code",
      "source": [
        "# Data Preprocessing\n",
        "print(data_1.shape)\n",
        "\n",
        "data_1.drop_duplicates()\n",
        "data_1.dropna()\n",
        "\n",
        "print(data_1.shape)\n",
        "\n",
        "data_1['Target'] = data_1['Target'].map({\n",
        "    'Dropout':0,\n",
        "    'Enrolled':1,\n",
        "    'Graduate':2\n",
        "})"
      ],
      "metadata": {
        "colab": {
          "base_uri": "https://localhost:8080/"
        },
        "id": "M5KF1gH6_qHT",
        "outputId": "de9eee32-56a7-4b0a-97a0-6060b9cc8137"
      },
      "execution_count": null,
      "outputs": [
        {
          "output_type": "stream",
          "name": "stdout",
          "text": [
            "(4424, 35)\n",
            "(4424, 35)\n"
          ]
        }
      ]
    },
    {
      "cell_type": "code",
      "source": [
        "# Finding and reducing Class imbalance\n",
        "print(data_1['Target'].value_counts())"
      ],
      "metadata": {
        "colab": {
          "base_uri": "https://localhost:8080/"
        },
        "id": "jtKzx7yS3EKu",
        "outputId": "05cec6e2-6753-47f8-a657-6e723779d27c"
      },
      "execution_count": null,
      "outputs": [
        {
          "output_type": "stream",
          "name": "stdout",
          "text": [
            "2    2209\n",
            "0    1421\n",
            "1     794\n",
            "Name: Target, dtype: int64\n"
          ]
        }
      ]
    },
    {
      "cell_type": "code",
      "source": [
        "# PCA transformation\n",
        "\n",
        "y = data_1['Target']\n",
        "X = data_1.drop(['Target'], axis=1)\n",
        "\n",
        "from imblearn.over_sampling import SMOTE\n",
        "\n",
        "sm = SMOTE(sampling_strategy='auto', random_state=42)\n",
        "X_resampled, y_resampled = sm.fit_resample(X, y)"
      ],
      "metadata": {
        "id": "XMlBMxd-AIFz"
      },
      "execution_count": null,
      "outputs": []
    },
    {
      "cell_type": "code",
      "source": [
        "from sklearn.decomposition import PCA\n",
        "from sklearn.preprocessing import StandardScaler\n",
        "\n",
        "# n_components = 6\n",
        "\n",
        "# pca = PCA(n_components=n_components).fit(X_resampled)\n",
        "\n",
        "# for i in range(n_components):\n",
        "#   print('Percentage of variance explained by PC {}: {}'.format(i+1, pca.explained_variance_ratio_[i]))\n",
        "\n",
        "# data_pca = pca.fit_transform(X_resampled)\n",
        "# fin_df_pca = pd.DataFrame(data_pca)\n",
        "\n",
        "# print(fin_df_pca.sample(5))\n",
        "\n",
        "from sklearn.model_selection import train_test_split\n",
        "\n",
        "\n",
        "\n",
        "X_train, X_test, y_train, y_test = train_test_split(\n",
        "X_resampled, y_resampled, test_size=0.3, shuffle=True, random_state=42\n",
        ")\n",
        "\n",
        "# Scale the data using StandardScaler\n",
        "scaler = StandardScaler()\n",
        "X_train = scaler.fit_transform(X_train)\n",
        "X_test = scaler.transform(X_test)"
      ],
      "metadata": {
        "id": "SjMeOydNDkzu"
      },
      "execution_count": null,
      "outputs": []
    },
    {
      "cell_type": "code",
      "source": [
        "# Random Forest method\n",
        "from sklearn import ensemble\n",
        "from sklearn import tree\n",
        "from sklearn.metrics import accuracy_score\n",
        "import matplotlib.pyplot as plt\n",
        "from numpy.random import random\n",
        "\n",
        "# Finding optimal value for the n estimators\n",
        "maxdepth = 3\n",
        "n_trees = range(1, 101, 5)\n",
        "trainAcc = []\n",
        "testAcc = []\n",
        "for n in n_trees:\n",
        "  clf = ensemble.RandomForestClassifier(n_estimators=n)\n",
        "  clf.fit(X_train, y_train)\n",
        "  Y_predTrain = clf.predict(X_train)\n",
        "  Y_predTest = clf.predict(X_test)\n",
        "  trainAcc.append(accuracy_score(y_train, Y_predTrain))\n",
        "  testAcc.append(accuracy_score(y_test, Y_predTest))\n",
        "\n",
        "plt.plot(n_trees, trainAcc, 'ro-', n_trees, testAcc,'bv--')\n",
        "plt.legend(['Training Accuracy','Test Accuracy'])\n",
        "plt.xlabel('Number of trees')\n",
        "plt.ylabel('Accuracy')"
      ],
      "metadata": {
        "colab": {
          "base_uri": "https://localhost:8080/",
          "height": 466
        },
        "id": "fgruo-hOETpP",
        "outputId": "0c781ca5-9771-484b-99fe-de96a0dcf425"
      },
      "execution_count": null,
      "outputs": [
        {
          "output_type": "execute_result",
          "data": {
            "text/plain": [
              "Text(0, 0.5, 'Accuracy')"
            ]
          },
          "metadata": {},
          "execution_count": 72
        },
        {
          "output_type": "display_data",
          "data": {
            "text/plain": [
              "<Figure size 640x480 with 1 Axes>"
            ],
            "image/png": "[encoded data removed]"
          },
          "metadata": {}
        }
      ]
    },
    {
      "cell_type": "code",
      "source": [
        "from sklearn.metrics import precision_score, recall_score, f1_score\n",
        "\n",
        "# Random Forest\n",
        "clf = ensemble.RandomForestClassifier(n_estimators=40)\n",
        "clf = clf.fit(X_train, y_train)\n",
        "Y_predTrain = clf.predict(X_train)\n",
        "Y_predTest = clf.predict(X_test)\n",
        "trainAcc = accuracy_score(y_train, Y_predTrain)\n",
        "testAcc = accuracy_score(y_test, Y_predTest)\n",
        "\n",
        "print('Accuracy on train data is %.3f' % (trainAcc))\n",
        "print('Accuracy on test data is %.3f' % (testAcc))\n",
        "precision = precision_score(y_test, Y_predTest, average='micro')\n",
        "\n",
        "# Compute recall\n",
        "recall = recall_score(y_test, Y_predTest, average='micro')\n",
        "# Compute F1 score\n",
        "f1score = f1_score(y_test, Y_predTest, average='micro')\n",
        "# Print the metrics\n",
        "print(\"Precision: \", precision)\n",
        "print(\"Recall: \", recall)\n",
        "print(\"F1 Score: \", f1score)\n",
        "\n"
      ],
      "metadata": {
        "colab": {
          "base_uri": "https://localhost:8080/"
        },
        "id": "Q58dZjK7yfZV",
        "outputId": "7899fe8a-a3be-4180-d029-11741fa9fdfe"
      },
      "execution_count": null,
      "outputs": [
        {
          "output_type": "stream",
          "name": "stdout",
          "text": [
            "Accuracy on train data is 1.000\n",
            "Accuracy on test data is 0.797\n",
            "Precision:  0.7968828557063852\n",
            "Recall:  0.7968828557063852\n",
            "F1 Score:  0.7968828557063852\n"
          ]
        }
      ]
    },
    {
      "cell_type": "code",
      "source": [
        "# ADA boosting method\n",
        "from sklearn.ensemble import AdaBoostClassifier\n",
        "\n",
        "n_trees = range(1, 101, 5)\n",
        "trainAcc = []\n",
        "testAcc = []\n",
        "for n in n_trees:\n",
        "  clf_ada = AdaBoostClassifier(n_estimators=n)\n",
        "  clf_ada.fit(X_train, y_train)\n",
        "  Y_predTrain = clf_ada.predict(X_train)\n",
        "  Y_predTest = clf_ada.predict(X_test)\n",
        "  trainAcc.append(accuracy_score(y_train, Y_predTrain))\n",
        "  testAcc.append(accuracy_score(y_test, Y_predTest))\n",
        "\n",
        "plt.plot(n_trees, trainAcc, 'ro-', n_trees, testAcc,'bv--')\n",
        "plt.legend(['Training Accuracy','Test Accuracy'])\n",
        "plt.xlabel('Number of trees')\n",
        "plt.ylabel('Accuracy')\n",
        "\n"
      ],
      "metadata": {
        "colab": {
          "base_uri": "https://localhost:8080/",
          "height": 471
        },
        "id": "dvi_TggS2iCK",
        "outputId": "78119976-db1c-4adb-db6d-2d15339fe283"
      },
      "execution_count": null,
      "outputs": [
        {
          "output_type": "execute_result",
          "data": {
            "text/plain": [
              "Text(0, 0.5, 'Accuracy')"
            ]
          },
          "metadata": {},
          "execution_count": 74
        },
        {
          "output_type": "display_data",
          "data": {
            "text/plain": [
              "<Figure size 640x480 with 1 Axes>"
            ],
            "image/png": "[encoded data removed]"
          },
          "metadata": {}
        }
      ]
    },
    {
      "cell_type": "code",
      "source": [
        "ada = AdaBoostClassifier(n_estimators=40, random_state=42)\n",
        "# Train the model\n",
        "ada.fit(X_train, y_train)\n",
        "\n",
        "# Predict the test set classes using the trained model\n",
        "\n",
        "y_pred_ada =  ada.predict(X_test)\n",
        "\n",
        "print(\"The accuracy score for the ADA boost model is {}\".format(round(accuracy_score(y_test, y_pred_ada), 2)))\n",
        "\n",
        "precision = precision_score(y_test, y_pred_ada, average='micro')\n",
        "\n",
        "# Compute recall\n",
        "recall = recall_score(y_test, y_pred_ada, average='micro')\n",
        "# Compute F1 score\n",
        "f1score = f1_score(y_test, y_pred_ada, average='micro')\n",
        "# Print the metrics\n",
        "print(\"Precision: \", precision)\n",
        "print(\"Recall: \", recall)\n",
        "print(\"F1 Score: \", f1score)"
      ],
      "metadata": {
        "colab": {
          "base_uri": "https://localhost:8080/"
        },
        "id": "1sHq1O8xN1fM",
        "outputId": "7d6ec8df-31ab-4ef0-8207-9d537a331eaa"
      },
      "execution_count": null,
      "outputs": [
        {
          "output_type": "stream",
          "name": "stdout",
          "text": [
            "The accuracy score for the ADA boost model is 0.73\n",
            "Precision:  0.7285067873303167\n",
            "Recall:  0.7285067873303167\n",
            "F1 Score:  0.7285067873303167\n"
          ]
        }
      ]
    },
    {
      "cell_type": "code",
      "source": [
        "# XG boosting method\n",
        "import xgboost as xgb\n",
        "\n",
        "\n",
        "n_trees = range(1, 101, 5)\n",
        "trainAcc = []\n",
        "testAcc = []\n",
        "for n in n_trees:\n",
        "  clf_xgb = xgb.XGBClassifier(n_estimators=n)\n",
        "  clf_xgb.fit(X_train, y_train)\n",
        "  Y_predTrain = clf_xgb.predict(X_train)\n",
        "  Y_predTest = clf_xgb.predict(X_test)\n",
        "  trainAcc.append(accuracy_score(y_train, Y_predTrain))\n",
        "  testAcc.append(accuracy_score(y_test, Y_predTest))\n",
        "\n",
        "plt.plot(n_trees, trainAcc, 'ro-', n_trees, testAcc,'bv--')\n",
        "plt.legend(['Training Accuracy','Test Accuracy'])\n",
        "plt.xlabel('Number of trees')\n",
        "plt.ylabel('Accuracy')\n"
      ],
      "metadata": {
        "colab": {
          "base_uri": "https://localhost:8080/",
          "height": 466
        },
        "id": "6L3cMfbOM86t",
        "outputId": "c2886ce6-f461-4de7-95ae-743f8e521644"
      },
      "execution_count": null,
      "outputs": [
        {
          "output_type": "execute_result",
          "data": {
            "text/plain": [
              "Text(0, 0.5, 'Accuracy')"
            ]
          },
          "metadata": {},
          "execution_count": 76
        },
        {
          "output_type": "display_data",
          "data": {
            "text/plain": [
              "<Figure size 640x480 with 1 Axes>"
            ],
            "image/png": "[encoded data removed]"
          },
          "metadata": {}
        }
      ]
    },
    {
      "cell_type": "code",
      "source": [
        "model = xgb.XGBClassifier(objective='binary:logistic', random_state=42, n_estimators=42)\n",
        "\n",
        "model.fit(X_train, y_train)\n",
        "\n",
        "y_pred_xg = model.predict(X_test)\n",
        "\n",
        "print(\"The accuracy score for the XG boost boost model is {}\".format(round(accuracy_score(y_test, y_pred_xg), 2)))\n",
        "precision = precision_score(y_test, y_pred_xg, average='micro')\n",
        "\n",
        "# Compute recall\n",
        "recall = recall_score(y_test, y_pred_xg, average='micro')\n",
        "# Compute F1 score\n",
        "f1score = f1_score(y_test, y_pred_xg, average='micro')\n",
        "# Print the metrics\n",
        "print(\"Precision: \", precision)\n",
        "print(\"Recall: \", recall)\n",
        "print(\"F1 Score: \", f1score)"
      ],
      "metadata": {
        "colab": {
          "base_uri": "https://localhost:8080/"
        },
        "id": "7uZ3WgkWOJA0",
        "outputId": "69f4f663-5964-4fc7-895f-ea9a442065e3"
      },
      "execution_count": null,
      "outputs": [
        {
          "output_type": "stream",
          "name": "stdout",
          "text": [
            "The accuracy score for the XG boost boost model is 0.81\n",
            "Precision:  0.8124685771744595\n",
            "Recall:  0.8124685771744595\n",
            "F1 Score:  0.8124685771744594\n"
          ]
        }
      ]
    },
    {
      "cell_type": "code",
      "source": [
        "### Nerual Network\n",
        "#### CNN based approach \n",
        "###\n",
        "\n",
        "import tensorflow as tf\n",
        "from keras import layers, models\n",
        "from keras.layers import LeakyReLU\n",
        "\n",
        "# Define the model\n",
        "model = models.Sequential()\n",
        "model.add(layers.Conv1D(32, 3, activation='relu', input_shape=(34, 1)))\n",
        "model.add(layers.MaxPooling1D(2))\n",
        "model.add(layers.Conv1D(64, 5, activation='relu'))\n",
        "model.add(layers.MaxPooling1D(2))\n",
        "model.add(layers.Conv1D(128, 5, activation='relu'))\n",
        "model.add(layers.Flatten())\n",
        "model.add(layers.Dense(128, activation='relu'))\n",
        "model.add(layers.Dropout(0.5))\n",
        "model.add(layers.Dense(1, activation='sigmoid'))\n",
        "\n",
        "# Compile the model\n",
        "model.compile(loss='mean_squared_error',\n",
        "              optimizer='adam',\n",
        "              metrics=['accuracy'])\n",
        "\n",
        "# Train the model\n",
        "history = model.fit(X_train, y_train, epochs=50, batch_size=32, validation_split=0.2)\n",
        "\n",
        "# Evaluate the model\n",
        "test_loss, test_acc = model.evaluate(X_test, y_test)\n",
        "\n",
        "# Print the test accuracy\n",
        "print('Test accuracy:', test_acc)"
      ],
      "metadata": {
        "colab": {
          "base_uri": "https://localhost:8080/"
        },
        "id": "AshMNA-8QtOl",
        "outputId": "29c24157-7d79-47ae-fe78-297850075f61"
      },
      "execution_count": null,
      "outputs": [
        {
          "output_type": "stream",
          "name": "stdout",
          "text": [
            "Epoch 1/50\n",
            "116/116 [==============================] - 3s 10ms/step - loss: 0.6053 - accuracy: 0.4075 - val_loss: 0.4754 - val_accuracy: 0.5097\n",
            "Epoch 2/50\n",
            "116/116 [==============================] - 1s 9ms/step - loss: 0.4795 - accuracy: 0.5129 - val_loss: 0.4398 - val_accuracy: 0.5463\n",
            "Epoch 3/50\n",
            "116/116 [==============================] - 1s 8ms/step - loss: 0.4621 - accuracy: 0.5278 - val_loss: 0.4498 - val_accuracy: 0.5377\n",
            "Epoch 4/50\n",
            "116/116 [==============================] - 1s 9ms/step - loss: 0.4583 - accuracy: 0.5332 - val_loss: 0.4416 - val_accuracy: 0.5442\n",
            "Epoch 5/50\n",
            "116/116 [==============================] - 1s 9ms/step - loss: 0.4557 - accuracy: 0.5332 - val_loss: 0.4428 - val_accuracy: 0.5474\n",
            "Epoch 6/50\n",
            "116/116 [==============================] - 1s 9ms/step - loss: 0.4502 - accuracy: 0.5391 - val_loss: 0.4344 - val_accuracy: 0.5560\n",
            "Epoch 7/50\n",
            "116/116 [==============================] - 1s 9ms/step - loss: 0.4460 - accuracy: 0.5450 - val_loss: 0.4282 - val_accuracy: 0.5528\n",
            "Epoch 8/50\n",
            "116/116 [==============================] - 2s 14ms/step - loss: 0.4452 - accuracy: 0.5410 - val_loss: 0.4284 - val_accuracy: 0.5463\n",
            "Epoch 9/50\n",
            "116/116 [==============================] - 2s 13ms/step - loss: 0.4426 - accuracy: 0.5450 - val_loss: 0.4326 - val_accuracy: 0.5496\n",
            "Epoch 10/50\n",
            "116/116 [==============================] - 1s 8ms/step - loss: 0.4368 - accuracy: 0.5528 - val_loss: 0.4383 - val_accuracy: 0.5474\n",
            "Epoch 11/50\n",
            "116/116 [==============================] - 1s 8ms/step - loss: 0.4397 - accuracy: 0.5474 - val_loss: 0.4343 - val_accuracy: 0.5528\n",
            "Epoch 12/50\n",
            "116/116 [==============================] - 1s 9ms/step - loss: 0.4406 - accuracy: 0.5518 - val_loss: 0.4296 - val_accuracy: 0.5517\n",
            "Epoch 13/50\n",
            "116/116 [==============================] - 1s 8ms/step - loss: 0.4352 - accuracy: 0.5531 - val_loss: 0.4255 - val_accuracy: 0.5506\n",
            "Epoch 14/50\n",
            "116/116 [==============================] - 1s 8ms/step - loss: 0.4340 - accuracy: 0.5563 - val_loss: 0.4269 - val_accuracy: 0.5582\n",
            "Epoch 15/50\n",
            "116/116 [==============================] - 1s 8ms/step - loss: 0.4303 - accuracy: 0.5617 - val_loss: 0.4323 - val_accuracy: 0.5614\n",
            "Epoch 16/50\n",
            "116/116 [==============================] - 1s 9ms/step - loss: 0.4330 - accuracy: 0.5580 - val_loss: 0.4298 - val_accuracy: 0.5603\n",
            "Epoch 17/50\n",
            "116/116 [==============================] - 1s 9ms/step - loss: 0.4279 - accuracy: 0.5598 - val_loss: 0.4232 - val_accuracy: 0.5636\n",
            "Epoch 18/50\n",
            "116/116 [==============================] - 1s 9ms/step - loss: 0.4284 - accuracy: 0.5666 - val_loss: 0.4444 - val_accuracy: 0.5474\n",
            "Epoch 19/50\n",
            "116/116 [==============================] - 1s 9ms/step - loss: 0.4249 - accuracy: 0.5679 - val_loss: 0.4328 - val_accuracy: 0.5636\n",
            "Epoch 20/50\n",
            "116/116 [==============================] - 2s 14ms/step - loss: 0.4268 - accuracy: 0.5714 - val_loss: 0.4312 - val_accuracy: 0.5647\n",
            "Epoch 21/50\n",
            "116/116 [==============================] - 2s 14ms/step - loss: 0.4196 - accuracy: 0.5768 - val_loss: 0.4299 - val_accuracy: 0.5571\n",
            "Epoch 22/50\n",
            "116/116 [==============================] - 1s 9ms/step - loss: 0.4212 - accuracy: 0.5722 - val_loss: 0.4304 - val_accuracy: 0.5625\n",
            "Epoch 23/50\n",
            "116/116 [==============================] - 1s 8ms/step - loss: 0.4168 - accuracy: 0.5768 - val_loss: 0.4306 - val_accuracy: 0.5647\n",
            "Epoch 24/50\n",
            "116/116 [==============================] - 1s 8ms/step - loss: 0.4099 - accuracy: 0.5849 - val_loss: 0.4335 - val_accuracy: 0.5603\n",
            "Epoch 25/50\n",
            "116/116 [==============================] - 1s 9ms/step - loss: 0.4142 - accuracy: 0.5806 - val_loss: 0.4321 - val_accuracy: 0.5657\n",
            "Epoch 26/50\n",
            "116/116 [==============================] - 1s 9ms/step - loss: 0.4121 - accuracy: 0.5849 - val_loss: 0.4319 - val_accuracy: 0.5636\n",
            "Epoch 27/50\n",
            "116/116 [==============================] - 1s 9ms/step - loss: 0.4106 - accuracy: 0.5830 - val_loss: 0.4331 - val_accuracy: 0.5690\n",
            "Epoch 28/50\n",
            "116/116 [==============================] - 1s 8ms/step - loss: 0.4093 - accuracy: 0.5881 - val_loss: 0.4278 - val_accuracy: 0.5593\n",
            "Epoch 29/50\n",
            "116/116 [==============================] - 1s 9ms/step - loss: 0.4038 - accuracy: 0.5930 - val_loss: 0.4356 - val_accuracy: 0.5647\n",
            "Epoch 30/50\n",
            "116/116 [==============================] - 1s 9ms/step - loss: 0.4093 - accuracy: 0.5879 - val_loss: 0.4269 - val_accuracy: 0.5668\n",
            "Epoch 31/50\n",
            "116/116 [==============================] - 1s 10ms/step - loss: 0.4108 - accuracy: 0.5865 - val_loss: 0.4338 - val_accuracy: 0.5603\n",
            "Epoch 32/50\n",
            "116/116 [==============================] - 2s 14ms/step - loss: 0.4075 - accuracy: 0.5895 - val_loss: 0.4280 - val_accuracy: 0.5679\n",
            "Epoch 33/50\n",
            "116/116 [==============================] - 1s 13ms/step - loss: 0.4036 - accuracy: 0.5981 - val_loss: 0.4442 - val_accuracy: 0.5625\n",
            "Epoch 34/50\n",
            "116/116 [==============================] - 1s 8ms/step - loss: 0.4021 - accuracy: 0.5973 - val_loss: 0.4494 - val_accuracy: 0.5517\n",
            "Epoch 35/50\n",
            "116/116 [==============================] - 1s 8ms/step - loss: 0.4066 - accuracy: 0.5908 - val_loss: 0.4271 - val_accuracy: 0.5700\n",
            "Epoch 36/50\n",
            "116/116 [==============================] - 1s 8ms/step - loss: 0.3994 - accuracy: 0.5978 - val_loss: 0.4331 - val_accuracy: 0.5722\n",
            "Epoch 37/50\n",
            "116/116 [==============================] - 1s 8ms/step - loss: 0.3942 - accuracy: 0.6032 - val_loss: 0.4295 - val_accuracy: 0.5700\n",
            "Epoch 38/50\n",
            "116/116 [==============================] - 1s 9ms/step - loss: 0.3953 - accuracy: 0.6057 - val_loss: 0.4275 - val_accuracy: 0.5722\n",
            "Epoch 39/50\n",
            "116/116 [==============================] - 1s 8ms/step - loss: 0.3926 - accuracy: 0.6073 - val_loss: 0.4357 - val_accuracy: 0.5636\n",
            "Epoch 40/50\n",
            "116/116 [==============================] - 1s 8ms/step - loss: 0.3959 - accuracy: 0.6059 - val_loss: 0.4318 - val_accuracy: 0.5603\n",
            "Epoch 41/50\n",
            "116/116 [==============================] - 1s 9ms/step - loss: 0.3930 - accuracy: 0.6070 - val_loss: 0.4372 - val_accuracy: 0.5582\n",
            "Epoch 42/50\n",
            "116/116 [==============================] - 1s 8ms/step - loss: 0.3966 - accuracy: 0.6022 - val_loss: 0.4411 - val_accuracy: 0.5636\n",
            "Epoch 43/50\n",
            "116/116 [==============================] - 1s 9ms/step - loss: 0.3934 - accuracy: 0.6051 - val_loss: 0.4430 - val_accuracy: 0.5582\n",
            "Epoch 44/50\n",
            "116/116 [==============================] - 2s 14ms/step - loss: 0.3923 - accuracy: 0.6059 - val_loss: 0.4332 - val_accuracy: 0.5647\n",
            "Epoch 45/50\n",
            "116/116 [==============================] - 2s 14ms/step - loss: 0.3929 - accuracy: 0.6070 - val_loss: 0.4303 - val_accuracy: 0.5657\n",
            "Epoch 46/50\n",
            "116/116 [==============================] - 1s 8ms/step - loss: 0.3982 - accuracy: 0.6013 - val_loss: 0.4414 - val_accuracy: 0.5647\n",
            "Epoch 47/50\n",
            "116/116 [==============================] - 1s 8ms/step - loss: 0.3979 - accuracy: 0.6013 - val_loss: 0.4386 - val_accuracy: 0.5700\n",
            "Epoch 48/50\n",
            "116/116 [==============================] - 1s 9ms/step - loss: 0.3934 - accuracy: 0.6067 - val_loss: 0.4332 - val_accuracy: 0.5647\n",
            "Epoch 49/50\n",
            "116/116 [==============================] - 1s 8ms/step - loss: 0.3938 - accuracy: 0.6057 - val_loss: 0.4414 - val_accuracy: 0.5647\n",
            "Epoch 50/50\n",
            "116/116 [==============================] - 1s 10ms/step - loss: 0.3924 - accuracy: 0.6057 - val_loss: 0.4320 - val_accuracy: 0.5733\n",
            "63/63 [==============================] - 0s 3ms/step - loss: 0.4653 - accuracy: 0.5385\n",
            "Test accuracy: 0.5384615659713745\n"
          ]
        }
      ]
    },
    {
      "cell_type": "code",
      "source": [
        "pip install keras-tuner"
      ],
      "metadata": {
        "colab": {
          "base_uri": "https://localhost:8080/"
        },
        "id": "Kv7wjDilIeUE",
        "outputId": "b7082f55-d2be-4974-cda4-e46412039d34"
      },
      "execution_count": null,
      "outputs": [
        {
          "output_type": "stream",
          "name": "stdout",
          "text": [
            "Looking in indexes: https://pypi.org/simple, https://us-python.pkg.dev/colab-wheels/public/simple/\n",
            "Collecting keras-tuner\n",
            "  Downloading keras_tuner-1.3.5-py3-none-any.whl (176 kB)\n",
            "\u001b[2K     \u001b[90m━━━━━━━━━━━━━━━━━━━━━━━━━━━━━━━━━━━━━━━\u001b[0m \u001b[32m176.1/176.1 kB\u001b[0m \u001b[31m4.3 MB/s\u001b[0m eta \u001b[36m0:00:00\u001b[0m\n",
            "\u001b[?25hRequirement already satisfied: packaging in /usr/local/lib/python3.9/dist-packages (from keras-tuner) (23.0)\n",
            "Collecting kt-legacy\n",
            "  Downloading kt_legacy-1.0.5-py3-none-any.whl (9.6 kB)\n",
            "Requirement already satisfied: requests in /usr/local/lib/python3.9/dist-packages (from keras-tuner) (2.27.1)\n",
            "Requirement already satisfied: idna<4,>=2.5 in /usr/local/lib/python3.9/dist-packages (from requests->keras-tuner) (3.4)\n",
            "Requirement already satisfied: charset-normalizer~=2.0.0 in /usr/local/lib/python3.9/dist-packages (from requests->keras-tuner) (2.0.12)\n",
            "Requirement already satisfied: certifi>=2017.4.17 in /usr/local/lib/python3.9/dist-packages (from requests->keras-tuner) (2022.12.7)\n",
            "Requirement already satisfied: urllib3<1.27,>=1.21.1 in /usr/local/lib/python3.9/dist-packages (from requests->keras-tuner) (1.26.15)\n",
            "Installing collected packages: kt-legacy, keras-tuner\n",
            "Successfully installed keras-tuner-1.3.5 kt-legacy-1.0.5\n"
          ]
        }
      ]
    },
    {
      "cell_type": "code",
      "source": [
        "from tensorflow import keras\n",
        "from tensorflow.keras import layers\n",
        "from kerastuner import HyperModel\n",
        "from kerastuner.tuners import RandomSearch\n",
        "\n",
        "def build_model(hp):\n",
        "    model = keras.Sequential()\n",
        "\n",
        "    # Add input layer\n",
        "    model.add(layers.Input(shape=(34,)))\n",
        "\n",
        "    # Tune the number of hidden layers\n",
        "    for i in range(hp.Int('num_layers', 1, 4)):\n",
        "        model.add(layers.Dense(units=hp.Int(f'units_{i}', 32, 256, 32), activation='relu'))\n",
        "        model.add(layers.Dropout(rate=hp.Float(f'dropout_{i}', 0.0, 0.5, 0.1)))\n",
        "\n",
        "    # Add output layer\n",
        "    model.add(layers.Dense(units=1, activation='sigmoid'))\n",
        "\n",
        "    # Tune the learning rate for the optimizer\n",
        "    hp_learning_rate = hp.Choice('learning_rate', values=[1e-2, 1e-3, 1e-4])\n",
        "\n",
        "    # Compile the model with the chosen hyperparameters\n",
        "    model.compile(optimizer=keras.optimizers.Adam(learning_rate=hp_learning_rate),\n",
        "                  loss='mean_squared_error',\n",
        "                  metrics=['accuracy'])\n",
        "\n",
        "    return model\n",
        "\n",
        "tuner = RandomSearch(\n",
        "    build_model,\n",
        "    objective='val_accuracy',\n",
        "    max_trials=20,\n",
        "    executions_per_trial=3,\n",
        "    directory='my_dir',\n",
        "    project_name='student_dropout_prediction')"
      ],
      "metadata": {
        "id": "Gdvq8CmRxWCm"
      },
      "execution_count": null,
      "outputs": []
    },
    {
      "cell_type": "code",
      "source": [
        "tuner.search(X_train, y_train, epochs=30, validation_split=0.2)\n",
        "\n",
        "# Get the best hyperparameters\n",
        "best_hp = tuner.get_best_hyperparameters(1)[0]"
      ],
      "metadata": {
        "colab": {
          "base_uri": "https://localhost:8080/"
        },
        "id": "8j8ackBqIlUe",
        "outputId": "c5384968-ae5b-41ea-cd81-5c99019de004"
      },
      "execution_count": null,
      "outputs": [
        {
          "output_type": "stream",
          "name": "stdout",
          "text": [
            "Trial 20 Complete [00h 00m 34s]\n",
            "val_accuracy: 0.5718390742937723\n",
            "\n",
            "Best val_accuracy So Far: 0.5754310488700867\n",
            "Total elapsed time: 00h 09m 15s\n"
          ]
        }
      ]
    },
    {
      "cell_type": "code",
      "source": [
        "# Build the model with the best hyperparameters\n",
        "model = build_model(best_hp)\n",
        "\n",
        "# Train the model with the best hyperparameters\n",
        "model.fit(X_train, y_train, epochs=100, validation_split=0.2)"
      ],
      "metadata": {
        "colab": {
          "base_uri": "https://localhost:8080/"
        },
        "id": "12lpP5tRXXR0",
        "outputId": "61b731bb-3b77-4421-e8ec-399f7d81cfd6"
      },
      "execution_count": null,
      "outputs": [
        {
          "output_type": "stream",
          "name": "stdout",
          "text": [
            "Epoch 1/100\n",
            "116/116 [==============================] - 1s 4ms/step - loss: 0.5981 - accuracy: 0.4143 - val_loss: 0.4749 - val_accuracy: 0.5086\n",
            "Epoch 2/100\n",
            "116/116 [==============================] - 0s 2ms/step - loss: 0.4849 - accuracy: 0.5078 - val_loss: 0.4426 - val_accuracy: 0.5399\n",
            "Epoch 3/100\n",
            "116/116 [==============================] - 0s 4ms/step - loss: 0.4657 - accuracy: 0.5194 - val_loss: 0.4333 - val_accuracy: 0.5506\n",
            "Epoch 4/100\n",
            "116/116 [==============================] - 0s 4ms/step - loss: 0.4566 - accuracy: 0.5302 - val_loss: 0.4279 - val_accuracy: 0.5474\n",
            "Epoch 5/100\n",
            "116/116 [==============================] - 0s 4ms/step - loss: 0.4496 - accuracy: 0.5340 - val_loss: 0.4286 - val_accuracy: 0.5506\n",
            "Epoch 6/100\n",
            "116/116 [==============================] - 0s 4ms/step - loss: 0.4463 - accuracy: 0.5423 - val_loss: 0.4281 - val_accuracy: 0.5539\n",
            "Epoch 7/100\n",
            "116/116 [==============================] - 0s 3ms/step - loss: 0.4441 - accuracy: 0.5474 - val_loss: 0.4247 - val_accuracy: 0.5571\n",
            "Epoch 8/100\n",
            "116/116 [==============================] - 1s 5ms/step - loss: 0.4386 - accuracy: 0.5507 - val_loss: 0.4257 - val_accuracy: 0.5614\n",
            "Epoch 9/100\n",
            "116/116 [==============================] - 1s 5ms/step - loss: 0.4380 - accuracy: 0.5542 - val_loss: 0.4232 - val_accuracy: 0.5593\n",
            "Epoch 10/100\n",
            "116/116 [==============================] - 0s 2ms/step - loss: 0.4354 - accuracy: 0.5558 - val_loss: 0.4243 - val_accuracy: 0.5560\n",
            "Epoch 11/100\n",
            "116/116 [==============================] - 0s 3ms/step - loss: 0.4327 - accuracy: 0.5580 - val_loss: 0.4235 - val_accuracy: 0.5657\n",
            "Epoch 12/100\n",
            "116/116 [==============================] - 0s 3ms/step - loss: 0.4313 - accuracy: 0.5593 - val_loss: 0.4249 - val_accuracy: 0.5679\n",
            "Epoch 13/100\n",
            "116/116 [==============================] - 0s 2ms/step - loss: 0.4288 - accuracy: 0.5628 - val_loss: 0.4225 - val_accuracy: 0.5679\n",
            "Epoch 14/100\n",
            "116/116 [==============================] - 0s 3ms/step - loss: 0.4281 - accuracy: 0.5623 - val_loss: 0.4224 - val_accuracy: 0.5657\n",
            "Epoch 15/100\n",
            "116/116 [==============================] - 0s 3ms/step - loss: 0.4258 - accuracy: 0.5655 - val_loss: 0.4207 - val_accuracy: 0.5636\n",
            "Epoch 16/100\n",
            "116/116 [==============================] - 0s 3ms/step - loss: 0.4240 - accuracy: 0.5682 - val_loss: 0.4242 - val_accuracy: 0.5636\n",
            "Epoch 17/100\n",
            "116/116 [==============================] - 0s 3ms/step - loss: 0.4218 - accuracy: 0.5720 - val_loss: 0.4220 - val_accuracy: 0.5625\n",
            "Epoch 18/100\n",
            "116/116 [==============================] - 0s 3ms/step - loss: 0.4221 - accuracy: 0.5725 - val_loss: 0.4249 - val_accuracy: 0.5679\n",
            "Epoch 19/100\n",
            "116/116 [==============================] - 0s 2ms/step - loss: 0.4181 - accuracy: 0.5739 - val_loss: 0.4237 - val_accuracy: 0.5679\n",
            "Epoch 20/100\n",
            "116/116 [==============================] - 0s 3ms/step - loss: 0.4174 - accuracy: 0.5733 - val_loss: 0.4286 - val_accuracy: 0.5690\n",
            "Epoch 21/100\n",
            "116/116 [==============================] - 0s 3ms/step - loss: 0.4167 - accuracy: 0.5774 - val_loss: 0.4251 - val_accuracy: 0.5668\n",
            "Epoch 22/100\n",
            "116/116 [==============================] - 0s 3ms/step - loss: 0.4125 - accuracy: 0.5814 - val_loss: 0.4260 - val_accuracy: 0.5690\n",
            "Epoch 23/100\n",
            "116/116 [==============================] - 0s 3ms/step - loss: 0.4119 - accuracy: 0.5833 - val_loss: 0.4275 - val_accuracy: 0.5722\n",
            "Epoch 24/100\n",
            "116/116 [==============================] - 0s 3ms/step - loss: 0.4117 - accuracy: 0.5838 - val_loss: 0.4276 - val_accuracy: 0.5754\n",
            "Epoch 25/100\n",
            "116/116 [==============================] - 0s 2ms/step - loss: 0.4103 - accuracy: 0.5844 - val_loss: 0.4308 - val_accuracy: 0.5744\n",
            "Epoch 26/100\n",
            "116/116 [==============================] - 0s 3ms/step - loss: 0.4089 - accuracy: 0.5871 - val_loss: 0.4276 - val_accuracy: 0.5657\n",
            "Epoch 27/100\n",
            "116/116 [==============================] - 0s 3ms/step - loss: 0.4082 - accuracy: 0.5895 - val_loss: 0.4304 - val_accuracy: 0.5700\n",
            "Epoch 28/100\n",
            "116/116 [==============================] - 0s 3ms/step - loss: 0.4078 - accuracy: 0.5884 - val_loss: 0.4291 - val_accuracy: 0.5668\n",
            "Epoch 29/100\n",
            "116/116 [==============================] - 0s 3ms/step - loss: 0.4058 - accuracy: 0.5887 - val_loss: 0.4290 - val_accuracy: 0.5733\n",
            "Epoch 30/100\n",
            "116/116 [==============================] - 0s 3ms/step - loss: 0.4034 - accuracy: 0.5951 - val_loss: 0.4290 - val_accuracy: 0.5679\n",
            "Epoch 31/100\n",
            "116/116 [==============================] - 0s 3ms/step - loss: 0.4041 - accuracy: 0.5911 - val_loss: 0.4259 - val_accuracy: 0.5700\n",
            "Epoch 32/100\n",
            "116/116 [==============================] - 0s 3ms/step - loss: 0.4015 - accuracy: 0.5962 - val_loss: 0.4270 - val_accuracy: 0.5700\n",
            "Epoch 33/100\n",
            "116/116 [==============================] - 0s 3ms/step - loss: 0.3992 - accuracy: 0.5978 - val_loss: 0.4272 - val_accuracy: 0.5668\n",
            "Epoch 34/100\n",
            "116/116 [==============================] - 0s 3ms/step - loss: 0.3984 - accuracy: 0.5989 - val_loss: 0.4325 - val_accuracy: 0.5700\n",
            "Epoch 35/100\n",
            "116/116 [==============================] - 0s 2ms/step - loss: 0.4019 - accuracy: 0.5960 - val_loss: 0.4314 - val_accuracy: 0.5733\n",
            "Epoch 36/100\n",
            "116/116 [==============================] - 0s 2ms/step - loss: 0.3987 - accuracy: 0.5989 - val_loss: 0.4279 - val_accuracy: 0.5722\n",
            "Epoch 37/100\n",
            "116/116 [==============================] - 0s 2ms/step - loss: 0.3970 - accuracy: 0.6022 - val_loss: 0.4329 - val_accuracy: 0.5711\n",
            "Epoch 38/100\n",
            "116/116 [==============================] - 0s 3ms/step - loss: 0.3957 - accuracy: 0.6016 - val_loss: 0.4295 - val_accuracy: 0.5733\n",
            "Epoch 39/100\n",
            "116/116 [==============================] - 0s 3ms/step - loss: 0.3953 - accuracy: 0.6022 - val_loss: 0.4314 - val_accuracy: 0.5765\n",
            "Epoch 40/100\n",
            "116/116 [==============================] - 0s 2ms/step - loss: 0.3945 - accuracy: 0.6043 - val_loss: 0.4263 - val_accuracy: 0.5754\n",
            "Epoch 41/100\n",
            "116/116 [==============================] - 0s 2ms/step - loss: 0.3940 - accuracy: 0.6038 - val_loss: 0.4279 - val_accuracy: 0.5744\n",
            "Epoch 42/100\n",
            "116/116 [==============================] - 0s 3ms/step - loss: 0.3926 - accuracy: 0.6070 - val_loss: 0.4332 - val_accuracy: 0.5700\n",
            "Epoch 43/100\n",
            "116/116 [==============================] - 0s 4ms/step - loss: 0.3932 - accuracy: 0.6054 - val_loss: 0.4288 - val_accuracy: 0.5711\n",
            "Epoch 44/100\n",
            "116/116 [==============================] - 0s 4ms/step - loss: 0.3918 - accuracy: 0.6043 - val_loss: 0.4303 - val_accuracy: 0.5722\n",
            "Epoch 45/100\n",
            "116/116 [==============================] - 0s 4ms/step - loss: 0.3902 - accuracy: 0.6105 - val_loss: 0.4278 - val_accuracy: 0.5754\n",
            "Epoch 46/100\n",
            "116/116 [==============================] - 0s 4ms/step - loss: 0.3891 - accuracy: 0.6124 - val_loss: 0.4302 - val_accuracy: 0.5776\n",
            "Epoch 47/100\n",
            "116/116 [==============================] - 0s 4ms/step - loss: 0.3897 - accuracy: 0.6097 - val_loss: 0.4303 - val_accuracy: 0.5776\n",
            "Epoch 48/100\n",
            "116/116 [==============================] - 0s 4ms/step - loss: 0.3891 - accuracy: 0.6111 - val_loss: 0.4275 - val_accuracy: 0.5733\n",
            "Epoch 49/100\n",
            "116/116 [==============================] - 0s 4ms/step - loss: 0.3895 - accuracy: 0.6105 - val_loss: 0.4283 - val_accuracy: 0.5744\n",
            "Epoch 50/100\n",
            "116/116 [==============================] - 0s 3ms/step - loss: 0.3871 - accuracy: 0.6129 - val_loss: 0.4285 - val_accuracy: 0.5776\n",
            "Epoch 51/100\n",
            "116/116 [==============================] - 0s 3ms/step - loss: 0.3882 - accuracy: 0.6097 - val_loss: 0.4319 - val_accuracy: 0.5744\n",
            "Epoch 52/100\n",
            "116/116 [==============================] - 0s 2ms/step - loss: 0.3889 - accuracy: 0.6111 - val_loss: 0.4338 - val_accuracy: 0.5765\n",
            "Epoch 53/100\n",
            "116/116 [==============================] - 0s 2ms/step - loss: 0.3869 - accuracy: 0.6097 - val_loss: 0.4344 - val_accuracy: 0.5711\n",
            "Epoch 54/100\n",
            "116/116 [==============================] - 0s 2ms/step - loss: 0.3868 - accuracy: 0.6124 - val_loss: 0.4263 - val_accuracy: 0.5744\n",
            "Epoch 55/100\n",
            "116/116 [==============================] - 0s 2ms/step - loss: 0.3859 - accuracy: 0.6121 - val_loss: 0.4327 - val_accuracy: 0.5744\n",
            "Epoch 56/100\n",
            "116/116 [==============================] - 0s 3ms/step - loss: 0.3872 - accuracy: 0.6132 - val_loss: 0.4274 - val_accuracy: 0.5765\n",
            "Epoch 57/100\n",
            "116/116 [==============================] - 0s 3ms/step - loss: 0.3870 - accuracy: 0.6129 - val_loss: 0.4283 - val_accuracy: 0.5776\n",
            "Epoch 58/100\n",
            "116/116 [==============================] - 0s 3ms/step - loss: 0.3850 - accuracy: 0.6159 - val_loss: 0.4276 - val_accuracy: 0.5776\n",
            "Epoch 59/100\n",
            "116/116 [==============================] - 0s 3ms/step - loss: 0.3883 - accuracy: 0.6097 - val_loss: 0.4277 - val_accuracy: 0.5787\n",
            "Epoch 60/100\n",
            "116/116 [==============================] - 0s 3ms/step - loss: 0.3861 - accuracy: 0.6143 - val_loss: 0.4262 - val_accuracy: 0.5754\n",
            "Epoch 61/100\n",
            "116/116 [==============================] - 0s 3ms/step - loss: 0.3846 - accuracy: 0.6148 - val_loss: 0.4269 - val_accuracy: 0.5819\n",
            "Epoch 62/100\n",
            "116/116 [==============================] - 0s 2ms/step - loss: 0.3822 - accuracy: 0.6181 - val_loss: 0.4271 - val_accuracy: 0.5819\n",
            "Epoch 63/100\n",
            "116/116 [==============================] - 0s 3ms/step - loss: 0.3826 - accuracy: 0.6164 - val_loss: 0.4280 - val_accuracy: 0.5765\n",
            "Epoch 64/100\n",
            "116/116 [==============================] - 0s 3ms/step - loss: 0.3818 - accuracy: 0.6186 - val_loss: 0.4286 - val_accuracy: 0.5797\n",
            "Epoch 65/100\n",
            "116/116 [==============================] - 0s 3ms/step - loss: 0.3841 - accuracy: 0.6154 - val_loss: 0.4264 - val_accuracy: 0.5808\n",
            "Epoch 66/100\n",
            "116/116 [==============================] - 0s 2ms/step - loss: 0.3833 - accuracy: 0.6181 - val_loss: 0.4323 - val_accuracy: 0.5754\n",
            "Epoch 67/100\n",
            "116/116 [==============================] - 0s 3ms/step - loss: 0.3824 - accuracy: 0.6170 - val_loss: 0.4335 - val_accuracy: 0.5787\n",
            "Epoch 68/100\n",
            "116/116 [==============================] - 0s 3ms/step - loss: 0.3820 - accuracy: 0.6191 - val_loss: 0.4304 - val_accuracy: 0.5765\n",
            "Epoch 69/100\n",
            "116/116 [==============================] - 0s 2ms/step - loss: 0.3814 - accuracy: 0.6183 - val_loss: 0.4283 - val_accuracy: 0.5797\n",
            "Epoch 70/100\n",
            "116/116 [==============================] - 0s 3ms/step - loss: 0.3808 - accuracy: 0.6194 - val_loss: 0.4276 - val_accuracy: 0.5808\n",
            "Epoch 71/100\n",
            "116/116 [==============================] - 0s 3ms/step - loss: 0.3812 - accuracy: 0.6189 - val_loss: 0.4331 - val_accuracy: 0.5776\n",
            "Epoch 72/100\n",
            "116/116 [==============================] - 0s 3ms/step - loss: 0.3825 - accuracy: 0.6175 - val_loss: 0.4260 - val_accuracy: 0.5787\n",
            "Epoch 73/100\n",
            "116/116 [==============================] - 0s 3ms/step - loss: 0.3816 - accuracy: 0.6175 - val_loss: 0.4290 - val_accuracy: 0.5819\n",
            "Epoch 74/100\n",
            "116/116 [==============================] - 0s 3ms/step - loss: 0.3820 - accuracy: 0.6175 - val_loss: 0.4241 - val_accuracy: 0.5819\n",
            "Epoch 75/100\n",
            "116/116 [==============================] - 0s 3ms/step - loss: 0.3809 - accuracy: 0.6202 - val_loss: 0.4259 - val_accuracy: 0.5808\n",
            "Epoch 76/100\n",
            "116/116 [==============================] - 0s 3ms/step - loss: 0.3793 - accuracy: 0.6208 - val_loss: 0.4250 - val_accuracy: 0.5808\n",
            "Epoch 77/100\n",
            "116/116 [==============================] - 0s 2ms/step - loss: 0.3814 - accuracy: 0.6173 - val_loss: 0.4270 - val_accuracy: 0.5808\n",
            "Epoch 78/100\n",
            "116/116 [==============================] - 0s 3ms/step - loss: 0.3834 - accuracy: 0.6167 - val_loss: 0.4302 - val_accuracy: 0.5797\n",
            "Epoch 79/100\n",
            "116/116 [==============================] - 0s 3ms/step - loss: 0.3811 - accuracy: 0.6194 - val_loss: 0.4303 - val_accuracy: 0.5787\n",
            "Epoch 80/100\n",
            "116/116 [==============================] - 0s 3ms/step - loss: 0.3799 - accuracy: 0.6210 - val_loss: 0.4294 - val_accuracy: 0.5787\n",
            "Epoch 81/100\n",
            "116/116 [==============================] - 0s 3ms/step - loss: 0.3798 - accuracy: 0.6213 - val_loss: 0.4275 - val_accuracy: 0.5830\n",
            "Epoch 82/100\n",
            "116/116 [==============================] - 0s 4ms/step - loss: 0.3787 - accuracy: 0.6224 - val_loss: 0.4316 - val_accuracy: 0.5797\n",
            "Epoch 83/100\n",
            "116/116 [==============================] - 0s 4ms/step - loss: 0.3784 - accuracy: 0.6210 - val_loss: 0.4329 - val_accuracy: 0.5776\n",
            "Epoch 84/100\n",
            "116/116 [==============================] - 0s 4ms/step - loss: 0.3802 - accuracy: 0.6202 - val_loss: 0.4281 - val_accuracy: 0.5776\n",
            "Epoch 85/100\n",
            "116/116 [==============================] - 0s 4ms/step - loss: 0.3780 - accuracy: 0.6226 - val_loss: 0.4344 - val_accuracy: 0.5765\n",
            "Epoch 86/100\n",
            "116/116 [==============================] - 1s 5ms/step - loss: 0.3787 - accuracy: 0.6216 - val_loss: 0.4323 - val_accuracy: 0.5787\n",
            "Epoch 87/100\n",
            "116/116 [==============================] - 0s 4ms/step - loss: 0.3816 - accuracy: 0.6191 - val_loss: 0.4310 - val_accuracy: 0.5787\n",
            "Epoch 88/100\n",
            "116/116 [==============================] - 0s 3ms/step - loss: 0.3830 - accuracy: 0.6183 - val_loss: 0.4323 - val_accuracy: 0.5765\n",
            "Epoch 89/100\n",
            "116/116 [==============================] - 0s 2ms/step - loss: 0.3808 - accuracy: 0.6189 - val_loss: 0.4273 - val_accuracy: 0.5819\n",
            "Epoch 90/100\n",
            "116/116 [==============================] - 0s 3ms/step - loss: 0.3782 - accuracy: 0.6210 - val_loss: 0.4302 - val_accuracy: 0.5787\n",
            "Epoch 91/100\n",
            "116/116 [==============================] - 0s 3ms/step - loss: 0.3796 - accuracy: 0.6216 - val_loss: 0.4328 - val_accuracy: 0.5787\n",
            "Epoch 92/100\n",
            "116/116 [==============================] - 0s 3ms/step - loss: 0.3767 - accuracy: 0.6243 - val_loss: 0.4335 - val_accuracy: 0.5787\n",
            "Epoch 93/100\n",
            "116/116 [==============================] - 0s 2ms/step - loss: 0.3766 - accuracy: 0.6245 - val_loss: 0.4349 - val_accuracy: 0.5754\n",
            "Epoch 94/100\n",
            "116/116 [==============================] - 0s 3ms/step - loss: 0.3771 - accuracy: 0.6232 - val_loss: 0.4336 - val_accuracy: 0.5754\n",
            "Epoch 95/100\n",
            "116/116 [==============================] - 0s 3ms/step - loss: 0.3774 - accuracy: 0.6224 - val_loss: 0.4270 - val_accuracy: 0.5797\n",
            "Epoch 96/100\n",
            "116/116 [==============================] - 0s 3ms/step - loss: 0.3775 - accuracy: 0.6232 - val_loss: 0.4334 - val_accuracy: 0.5776\n",
            "Epoch 97/100\n",
            "116/116 [==============================] - 0s 2ms/step - loss: 0.3773 - accuracy: 0.6229 - val_loss: 0.4338 - val_accuracy: 0.5808\n",
            "Epoch 98/100\n",
            "116/116 [==============================] - 0s 3ms/step - loss: 0.3766 - accuracy: 0.6243 - val_loss: 0.4290 - val_accuracy: 0.5787\n",
            "Epoch 99/100\n",
            "116/116 [==============================] - 0s 3ms/step - loss: 0.3762 - accuracy: 0.6237 - val_loss: 0.4305 - val_accuracy: 0.5808\n",
            "Epoch 100/100\n",
            "116/116 [==============================] - 0s 3ms/step - loss: 0.3777 - accuracy: 0.6229 - val_loss: 0.4311 - val_accuracy: 0.5797\n"
          ]
        },
        {
          "output_type": "execute_result",
          "data": {
            "text/plain": [
              "<keras.callbacks.History at 0x7f2705c06940>"
            ]
          },
          "metadata": {},
          "execution_count": 35
        }
      ]
    },
    {
      "cell_type": "code",
      "source": [
        "# Evaluate the model\n",
        "test_loss, test_acc = model.evaluate(X_test, y_test)\n",
        "\n",
        "# Print the test accuracy\n",
        "print('Test accuracy:', test_acc)"
      ],
      "metadata": {
        "colab": {
          "base_uri": "https://localhost:8080/"
        },
        "id": "N0M69bC0ZFBf",
        "outputId": "03e1df42-3314-4626-f86d-6a5bff45624f"
      },
      "execution_count": null,
      "outputs": [
        {
          "output_type": "stream",
          "name": "stdout",
          "text": [
            "63/63 [==============================] - 0s 1ms/step - loss: 0.4603 - accuracy: 0.5546\n",
            "Test accuracy: 0.554550051689148\n"
          ]
        }
      ]
    },
    {
      "cell_type": "code",
      "source": [
        "###########\n",
        "# RNN based approach\n",
        "###########\n",
        "\n",
        "def build_model_rnn(hp):\n",
        "    model = keras.Sequential()\n",
        "\n",
        "    # Add input layer\n",
        "    model.add(layers.Input(shape=(X_train.shape[1], 1)))\n",
        "\n",
        "    # Tune the number of LSTM layers\n",
        "    for i in range(hp.Int('num_layers', 1, 4)):\n",
        "        # Tune the number of LSTM units in each layer\n",
        "        model.add(layers.LSTM(units=hp.Int(f'units_{i}', 32, 256, 32), return_sequences=True))\n",
        "        model.add(layers.Dropout(rate=hp.Float(f'dropout_{i}', 0.0, 0.5, 0.1)))\n",
        "\n",
        "    # Flatten output and add dense layers\n",
        "    model.add(layers.Flatten())\n",
        "    for i in range(hp.Int('num_dense_layers', 1, 4)):\n",
        "        # Tune the number of units in each dense layer\n",
        "        model.add(layers.Dense(units=hp.Int(f'dense_units_{i}', 32, 256, 32), activation='relu'))\n",
        "        model.add(layers.Dropout(rate=hp.Float(f'dense_dropout_{i}', 0.0, 0.5, 0.1)))\n",
        "\n",
        "    # Add output layer\n",
        "    model.add(layers.Dense(units=1, activation='sigmoid'))\n",
        "\n",
        "    # Tune the learning rate for the optimizer\n",
        "    hp_learning_rate = hp.Choice('learning_rate', values=[1e-2, 1e-3, 1e-4])\n",
        "\n",
        "    # Compile the model with the chosen hyperparameters\n",
        "    model.compile(optimizer=keras.optimizers.Adam(learning_rate=hp_learning_rate),\n",
        "                  loss='mean_squared_error',\n",
        "                  metrics=['accuracy'])\n",
        "\n",
        "    return model\n",
        "\n",
        "tuner_rnn = RandomSearch(\n",
        "    build_model_rnn,\n",
        "    objective='val_accuracy',\n",
        "    max_trials=20,\n",
        "    executions_per_trial=2,\n",
        "    directory='my_dir',\n",
        "    project_name='student_dropout_prediction')\n"
      ],
      "metadata": {
        "id": "Ef3j4vfjoEOE"
      },
      "execution_count": null,
      "outputs": []
    },
    {
      "cell_type": "code",
      "source": [
        "tuner_rnn.search(X_train, y_train, epochs=30, validation_split=0.2)\n",
        "\n",
        "# Get the best hyperparameters\n",
        "best_hp_rnn = tuner_rnn.get_best_hyperparameters(1)[0]"
      ],
      "metadata": {
        "id": "dc23mGkTohhG"
      },
      "execution_count": null,
      "outputs": []
    },
    {
      "cell_type": "code",
      "source": [
        "# Build the model with the best hyperparameters\n",
        "model_rnn = build_model_rnn(best_hp_rnn)\n",
        "\n",
        "# Train the model with the best hyperparameters\n",
        "model_rnn.fit(X_train, y_train, epochs=100, validation_split=0.2)"
      ],
      "metadata": {
        "colab": {
          "base_uri": "https://localhost:8080/"
        },
        "id": "SCa0bkWkpCz4",
        "outputId": "3b2a2ad2-ae20-49d7-f1ae-65e12a619370"
      },
      "execution_count": null,
      "outputs": [
        {
          "output_type": "stream",
          "name": "stdout",
          "text": [
            "Epoch 1/100\n",
            "116/116 [==============================] - 11s 52ms/step - loss: 0.5898 - accuracy: 0.4337 - val_loss: 0.5121 - val_accuracy: 0.4978\n",
            "Epoch 2/100\n",
            "116/116 [==============================] - 6s 55ms/step - loss: 0.5165 - accuracy: 0.4814 - val_loss: 0.4878 - val_accuracy: 0.5075\n",
            "Epoch 3/100\n",
            "116/116 [==============================] - 5s 43ms/step - loss: 0.4961 - accuracy: 0.4957 - val_loss: 0.4702 - val_accuracy: 0.5226\n",
            "Epoch 4/100\n",
            "116/116 [==============================] - 5s 47ms/step - loss: 0.4878 - accuracy: 0.5062 - val_loss: 0.4688 - val_accuracy: 0.5366\n",
            "Epoch 5/100\n",
            "116/116 [==============================] - 6s 54ms/step - loss: 0.4832 - accuracy: 0.5111 - val_loss: 0.4617 - val_accuracy: 0.5216\n",
            "Epoch 6/100\n",
            "116/116 [==============================] - 5s 44ms/step - loss: 0.4768 - accuracy: 0.5159 - val_loss: 0.4551 - val_accuracy: 0.5248\n",
            "Epoch 7/100\n",
            "116/116 [==============================] - 6s 53ms/step - loss: 0.4714 - accuracy: 0.5199 - val_loss: 0.4464 - val_accuracy: 0.5388\n",
            "Epoch 8/100\n",
            "116/116 [==============================] - 5s 42ms/step - loss: 0.4693 - accuracy: 0.5194 - val_loss: 0.4465 - val_accuracy: 0.5356\n",
            "Epoch 9/100\n",
            "116/116 [==============================] - 6s 55ms/step - loss: 0.4646 - accuracy: 0.5259 - val_loss: 0.4529 - val_accuracy: 0.5269\n",
            "Epoch 10/100\n",
            "116/116 [==============================] - 5s 42ms/step - loss: 0.4633 - accuracy: 0.5221 - val_loss: 0.4351 - val_accuracy: 0.5506\n",
            "Epoch 11/100\n",
            "116/116 [==============================] - 5s 47ms/step - loss: 0.4598 - accuracy: 0.5310 - val_loss: 0.4425 - val_accuracy: 0.5366\n",
            "Epoch 12/100\n",
            "116/116 [==============================] - 6s 50ms/step - loss: 0.4586 - accuracy: 0.5288 - val_loss: 0.4327 - val_accuracy: 0.5528\n",
            "Epoch 13/100\n",
            "116/116 [==============================] - 5s 44ms/step - loss: 0.4563 - accuracy: 0.5334 - val_loss: 0.4325 - val_accuracy: 0.5496\n",
            "Epoch 14/100\n",
            "116/116 [==============================] - 7s 58ms/step - loss: 0.4541 - accuracy: 0.5364 - val_loss: 0.4384 - val_accuracy: 0.5388\n",
            "Epoch 15/100\n",
            "116/116 [==============================] - 5s 45ms/step - loss: 0.4536 - accuracy: 0.5391 - val_loss: 0.4333 - val_accuracy: 0.5463\n",
            "Epoch 16/100\n",
            "116/116 [==============================] - 8s 69ms/step - loss: 0.4534 - accuracy: 0.5361 - val_loss: 0.4295 - val_accuracy: 0.5593\n",
            "Epoch 17/100\n",
            "116/116 [==============================] - 5s 44ms/step - loss: 0.4495 - accuracy: 0.5410 - val_loss: 0.4341 - val_accuracy: 0.5560\n",
            "Epoch 18/100\n",
            "116/116 [==============================] - 6s 53ms/step - loss: 0.4492 - accuracy: 0.5402 - val_loss: 0.4271 - val_accuracy: 0.5625\n",
            "Epoch 19/100\n",
            "116/116 [==============================] - 5s 43ms/step - loss: 0.4490 - accuracy: 0.5394 - val_loss: 0.4259 - val_accuracy: 0.5571\n",
            "Epoch 20/100\n",
            "116/116 [==============================] - 5s 43ms/step - loss: 0.4446 - accuracy: 0.5431 - val_loss: 0.4215 - val_accuracy: 0.5668\n",
            "Epoch 21/100\n",
            "116/116 [==============================] - 6s 54ms/step - loss: 0.4438 - accuracy: 0.5461 - val_loss: 0.4205 - val_accuracy: 0.5679\n",
            "Epoch 22/100\n",
            "116/116 [==============================] - 5s 44ms/step - loss: 0.4409 - accuracy: 0.5523 - val_loss: 0.4246 - val_accuracy: 0.5668\n",
            "Epoch 23/100\n",
            "116/116 [==============================] - 6s 54ms/step - loss: 0.4411 - accuracy: 0.5464 - val_loss: 0.4257 - val_accuracy: 0.5636\n",
            "Epoch 24/100\n",
            "116/116 [==============================] - 5s 45ms/step - loss: 0.4418 - accuracy: 0.5488 - val_loss: 0.4198 - val_accuracy: 0.5733\n",
            "Epoch 25/100\n",
            "116/116 [==============================] - 6s 50ms/step - loss: 0.4397 - accuracy: 0.5491 - val_loss: 0.4206 - val_accuracy: 0.5711\n",
            "Epoch 26/100\n",
            "116/116 [==============================] - 6s 47ms/step - loss: 0.4374 - accuracy: 0.5504 - val_loss: 0.4191 - val_accuracy: 0.5657\n",
            "Epoch 27/100\n",
            "116/116 [==============================] - 5s 42ms/step - loss: 0.4400 - accuracy: 0.5520 - val_loss: 0.4225 - val_accuracy: 0.5614\n",
            "Epoch 28/100\n",
            "116/116 [==============================] - 7s 57ms/step - loss: 0.4369 - accuracy: 0.5534 - val_loss: 0.4188 - val_accuracy: 0.5636\n",
            "Epoch 29/100\n",
            "116/116 [==============================] - 5s 42ms/step - loss: 0.4341 - accuracy: 0.5577 - val_loss: 0.4204 - val_accuracy: 0.5668\n",
            "Epoch 30/100\n",
            "116/116 [==============================] - 6s 56ms/step - loss: 0.4324 - accuracy: 0.5604 - val_loss: 0.4239 - val_accuracy: 0.5647\n",
            "Epoch 31/100\n",
            "116/116 [==============================] - 6s 52ms/step - loss: 0.4335 - accuracy: 0.5604 - val_loss: 0.4191 - val_accuracy: 0.5657\n",
            "Epoch 32/100\n",
            "116/116 [==============================] - 6s 56ms/step - loss: 0.4318 - accuracy: 0.5588 - val_loss: 0.4184 - val_accuracy: 0.5733\n",
            "Epoch 33/100\n",
            "116/116 [==============================] - 5s 44ms/step - loss: 0.4290 - accuracy: 0.5642 - val_loss: 0.4223 - val_accuracy: 0.5593\n",
            "Epoch 34/100\n",
            "116/116 [==============================] - 5s 43ms/step - loss: 0.4320 - accuracy: 0.5577 - val_loss: 0.4200 - val_accuracy: 0.5711\n",
            "Epoch 35/100\n",
            "116/116 [==============================] - 6s 52ms/step - loss: 0.4283 - accuracy: 0.5633 - val_loss: 0.4227 - val_accuracy: 0.5636\n",
            "Epoch 36/100\n",
            "116/116 [==============================] - 5s 42ms/step - loss: 0.4256 - accuracy: 0.5674 - val_loss: 0.4214 - val_accuracy: 0.5657\n",
            "Epoch 37/100\n",
            "116/116 [==============================] - 7s 56ms/step - loss: 0.4306 - accuracy: 0.5644 - val_loss: 0.4196 - val_accuracy: 0.5668\n",
            "Epoch 38/100\n",
            "116/116 [==============================] - 5s 44ms/step - loss: 0.4246 - accuracy: 0.5671 - val_loss: 0.4160 - val_accuracy: 0.5765\n",
            "Epoch 39/100\n",
            "116/116 [==============================] - 6s 51ms/step - loss: 0.4217 - accuracy: 0.5695 - val_loss: 0.4184 - val_accuracy: 0.5636\n",
            "Epoch 40/100\n",
            "116/116 [==============================] - 5s 46ms/step - loss: 0.4238 - accuracy: 0.5671 - val_loss: 0.4159 - val_accuracy: 0.5765\n",
            "Epoch 41/100\n",
            "116/116 [==============================] - 5s 41ms/step - loss: 0.4229 - accuracy: 0.5695 - val_loss: 0.4169 - val_accuracy: 0.5733\n",
            "Epoch 42/100\n",
            "116/116 [==============================] - 7s 57ms/step - loss: 0.4189 - accuracy: 0.5760 - val_loss: 0.4166 - val_accuracy: 0.5700\n",
            "Epoch 43/100\n",
            "116/116 [==============================] - 5s 41ms/step - loss: 0.4193 - accuracy: 0.5728 - val_loss: 0.4190 - val_accuracy: 0.5711\n",
            "Epoch 44/100\n",
            "116/116 [==============================] - 6s 56ms/step - loss: 0.4179 - accuracy: 0.5771 - val_loss: 0.4192 - val_accuracy: 0.5754\n",
            "Epoch 45/100\n",
            "116/116 [==============================] - 5s 44ms/step - loss: 0.4190 - accuracy: 0.5747 - val_loss: 0.4170 - val_accuracy: 0.5797\n",
            "Epoch 46/100\n",
            "116/116 [==============================] - 6s 49ms/step - loss: 0.4149 - accuracy: 0.5806 - val_loss: 0.4174 - val_accuracy: 0.5744\n",
            "Epoch 47/100\n",
            "116/116 [==============================] - 6s 49ms/step - loss: 0.4163 - accuracy: 0.5811 - val_loss: 0.4187 - val_accuracy: 0.5830\n",
            "Epoch 48/100\n",
            "116/116 [==============================] - 5s 42ms/step - loss: 0.4138 - accuracy: 0.5798 - val_loss: 0.4189 - val_accuracy: 0.5765\n",
            "Epoch 49/100\n",
            "116/116 [==============================] - 6s 53ms/step - loss: 0.4120 - accuracy: 0.5854 - val_loss: 0.4168 - val_accuracy: 0.5690\n",
            "Epoch 50/100\n",
            "116/116 [==============================] - 5s 42ms/step - loss: 0.4138 - accuracy: 0.5801 - val_loss: 0.4191 - val_accuracy: 0.5733\n",
            "Epoch 51/100\n",
            "116/116 [==============================] - 6s 52ms/step - loss: 0.4095 - accuracy: 0.5873 - val_loss: 0.4196 - val_accuracy: 0.5754\n",
            "Epoch 52/100\n",
            "116/116 [==============================] - 5s 44ms/step - loss: 0.4097 - accuracy: 0.5881 - val_loss: 0.4215 - val_accuracy: 0.5679\n",
            "Epoch 53/100\n",
            "116/116 [==============================] - 5s 45ms/step - loss: 0.4107 - accuracy: 0.5849 - val_loss: 0.4138 - val_accuracy: 0.5830\n",
            "Epoch 54/100\n",
            "116/116 [==============================] - 6s 55ms/step - loss: 0.4119 - accuracy: 0.5838 - val_loss: 0.4192 - val_accuracy: 0.5787\n",
            "Epoch 55/100\n",
            "116/116 [==============================] - 5s 45ms/step - loss: 0.4043 - accuracy: 0.5941 - val_loss: 0.4197 - val_accuracy: 0.5754\n",
            "Epoch 56/100\n",
            "116/116 [==============================] - 6s 53ms/step - loss: 0.4077 - accuracy: 0.5895 - val_loss: 0.4150 - val_accuracy: 0.5765\n",
            "Epoch 57/100\n",
            "116/116 [==============================] - 5s 44ms/step - loss: 0.4057 - accuracy: 0.5884 - val_loss: 0.4167 - val_accuracy: 0.5744\n",
            "Epoch 58/100\n",
            "116/116 [==============================] - 6s 50ms/step - loss: 0.4047 - accuracy: 0.5914 - val_loss: 0.4164 - val_accuracy: 0.5830\n",
            "Epoch 59/100\n",
            "116/116 [==============================] - 5s 45ms/step - loss: 0.4034 - accuracy: 0.5925 - val_loss: 0.4202 - val_accuracy: 0.5765\n",
            "Epoch 60/100\n",
            "116/116 [==============================] - 5s 44ms/step - loss: 0.4040 - accuracy: 0.5925 - val_loss: 0.4192 - val_accuracy: 0.5776\n",
            "Epoch 61/100\n",
            "116/116 [==============================] - 6s 56ms/step - loss: 0.4013 - accuracy: 0.5989 - val_loss: 0.4196 - val_accuracy: 0.5754\n",
            "Epoch 62/100\n",
            "116/116 [==============================] - 5s 44ms/step - loss: 0.3974 - accuracy: 0.5992 - val_loss: 0.4221 - val_accuracy: 0.5754\n",
            "Epoch 63/100\n",
            "116/116 [==============================] - 7s 57ms/step - loss: 0.3986 - accuracy: 0.5992 - val_loss: 0.4221 - val_accuracy: 0.5722\n",
            "Epoch 64/100\n",
            "116/116 [==============================] - 5s 45ms/step - loss: 0.3990 - accuracy: 0.5989 - val_loss: 0.4258 - val_accuracy: 0.5690\n",
            "Epoch 65/100\n",
            "116/116 [==============================] - 6s 48ms/step - loss: 0.3981 - accuracy: 0.6013 - val_loss: 0.4196 - val_accuracy: 0.5700\n",
            "Epoch 66/100\n",
            "116/116 [==============================] - 6s 49ms/step - loss: 0.3969 - accuracy: 0.6005 - val_loss: 0.4180 - val_accuracy: 0.5808\n",
            "Epoch 67/100\n",
            "116/116 [==============================] - 5s 43ms/step - loss: 0.3964 - accuracy: 0.6038 - val_loss: 0.4162 - val_accuracy: 0.5744\n",
            "Epoch 68/100\n",
            "116/116 [==============================] - 6s 56ms/step - loss: 0.3938 - accuracy: 0.6035 - val_loss: 0.4199 - val_accuracy: 0.5776\n",
            "Epoch 69/100\n",
            "116/116 [==============================] - 5s 44ms/step - loss: 0.3953 - accuracy: 0.6043 - val_loss: 0.4197 - val_accuracy: 0.5787\n",
            "Epoch 70/100\n",
            "116/116 [==============================] - 7s 57ms/step - loss: 0.3952 - accuracy: 0.6027 - val_loss: 0.4172 - val_accuracy: 0.5776\n",
            "Epoch 71/100\n",
            "116/116 [==============================] - 5s 44ms/step - loss: 0.3952 - accuracy: 0.6032 - val_loss: 0.4172 - val_accuracy: 0.5754\n",
            "Epoch 72/100\n",
            "116/116 [==============================] - 6s 49ms/step - loss: 0.3939 - accuracy: 0.6040 - val_loss: 0.4216 - val_accuracy: 0.5797\n",
            "Epoch 73/100\n",
            "116/116 [==============================] - 5s 46ms/step - loss: 0.3920 - accuracy: 0.6040 - val_loss: 0.4211 - val_accuracy: 0.5808\n",
            "Epoch 74/100\n",
            "116/116 [==============================] - 5s 45ms/step - loss: 0.3879 - accuracy: 0.6111 - val_loss: 0.4252 - val_accuracy: 0.5776\n",
            "Epoch 75/100\n",
            "116/116 [==============================] - 6s 54ms/step - loss: 0.3928 - accuracy: 0.6065 - val_loss: 0.4203 - val_accuracy: 0.5797\n",
            "Epoch 76/100\n",
            "116/116 [==============================] - 5s 42ms/step - loss: 0.3911 - accuracy: 0.6092 - val_loss: 0.4199 - val_accuracy: 0.5787\n",
            "Epoch 77/100\n",
            "116/116 [==============================] - 6s 52ms/step - loss: 0.3895 - accuracy: 0.6105 - val_loss: 0.4179 - val_accuracy: 0.5830\n",
            "Epoch 78/100\n",
            "116/116 [==============================] - 5s 42ms/step - loss: 0.3896 - accuracy: 0.6100 - val_loss: 0.4239 - val_accuracy: 0.5744\n",
            "Epoch 79/100\n",
            "116/116 [==============================] - 5s 44ms/step - loss: 0.3911 - accuracy: 0.6086 - val_loss: 0.4252 - val_accuracy: 0.5722\n",
            "Epoch 80/100\n",
            "116/116 [==============================] - 6s 55ms/step - loss: 0.3925 - accuracy: 0.6059 - val_loss: 0.4235 - val_accuracy: 0.5787\n",
            "Epoch 81/100\n",
            "116/116 [==============================] - 5s 42ms/step - loss: 0.3881 - accuracy: 0.6108 - val_loss: 0.4245 - val_accuracy: 0.5744\n",
            "Epoch 82/100\n",
            "116/116 [==============================] - 6s 56ms/step - loss: 0.3859 - accuracy: 0.6124 - val_loss: 0.4244 - val_accuracy: 0.5765\n",
            "Epoch 83/100\n",
            "116/116 [==============================] - 5s 42ms/step - loss: 0.3882 - accuracy: 0.6146 - val_loss: 0.4242 - val_accuracy: 0.5690\n",
            "Epoch 84/100\n",
            "116/116 [==============================] - 5s 47ms/step - loss: 0.3919 - accuracy: 0.6081 - val_loss: 0.4258 - val_accuracy: 0.5711\n",
            "Epoch 85/100\n",
            "116/116 [==============================] - 6s 50ms/step - loss: 0.3866 - accuracy: 0.6132 - val_loss: 0.4266 - val_accuracy: 0.5787\n",
            "Epoch 86/100\n",
            "116/116 [==============================] - 5s 42ms/step - loss: 0.3892 - accuracy: 0.6100 - val_loss: 0.4237 - val_accuracy: 0.5754\n",
            "Epoch 87/100\n",
            "116/116 [==============================] - 6s 54ms/step - loss: 0.3855 - accuracy: 0.6127 - val_loss: 0.4271 - val_accuracy: 0.5744\n",
            "Epoch 88/100\n",
            "116/116 [==============================] - 5s 44ms/step - loss: 0.3857 - accuracy: 0.6132 - val_loss: 0.4188 - val_accuracy: 0.5787\n",
            "Epoch 89/100\n",
            "116/116 [==============================] - 6s 50ms/step - loss: 0.3834 - accuracy: 0.6162 - val_loss: 0.4221 - val_accuracy: 0.5733\n",
            "Epoch 90/100\n",
            "116/116 [==============================] - 5s 44ms/step - loss: 0.3861 - accuracy: 0.6129 - val_loss: 0.4186 - val_accuracy: 0.5787\n",
            "Epoch 91/100\n",
            "116/116 [==============================] - 5s 41ms/step - loss: 0.3815 - accuracy: 0.6173 - val_loss: 0.4217 - val_accuracy: 0.5797\n",
            "Epoch 92/100\n",
            "116/116 [==============================] - 6s 54ms/step - loss: 0.3847 - accuracy: 0.6140 - val_loss: 0.4266 - val_accuracy: 0.5808\n",
            "Epoch 93/100\n",
            "116/116 [==============================] - 5s 42ms/step - loss: 0.3840 - accuracy: 0.6156 - val_loss: 0.4267 - val_accuracy: 0.5765\n",
            "Epoch 94/100\n",
            "116/116 [==============================] - 6s 51ms/step - loss: 0.3841 - accuracy: 0.6143 - val_loss: 0.4212 - val_accuracy: 0.5787\n",
            "Epoch 95/100\n",
            "116/116 [==============================] - 5s 44ms/step - loss: 0.3842 - accuracy: 0.6156 - val_loss: 0.4268 - val_accuracy: 0.5765\n",
            "Epoch 96/100\n",
            "116/116 [==============================] - 5s 42ms/step - loss: 0.3832 - accuracy: 0.6170 - val_loss: 0.4194 - val_accuracy: 0.5776\n",
            "Epoch 97/100\n",
            "116/116 [==============================] - 7s 56ms/step - loss: 0.3819 - accuracy: 0.6173 - val_loss: 0.4257 - val_accuracy: 0.5808\n",
            "Epoch 98/100\n",
            "116/116 [==============================] - 5s 45ms/step - loss: 0.3835 - accuracy: 0.6167 - val_loss: 0.4220 - val_accuracy: 0.5754\n",
            "Epoch 99/100\n",
            "116/116 [==============================] - 7s 56ms/step - loss: 0.3826 - accuracy: 0.6167 - val_loss: 0.4221 - val_accuracy: 0.5797\n",
            "Epoch 100/100\n",
            "116/116 [==============================] - 5s 42ms/step - loss: 0.3815 - accuracy: 0.6178 - val_loss: 0.4242 - val_accuracy: 0.5754\n"
          ]
        },
        {
          "output_type": "execute_result",
          "data": {
            "text/plain": [
              "<keras.callbacks.History at 0x7f269dea6100>"
            ]
          },
          "metadata": {},
          "execution_count": 39
        }
      ]
    },
    {
      "cell_type": "code",
      "source": [
        "test_loss, test_acc = model_rnn.evaluate(X_test, y_test)\n",
        "\n",
        "# Print the test accuracy\n",
        "print('Test accuracy:', test_acc)"
      ],
      "metadata": {
        "colab": {
          "base_uri": "https://localhost:8080/"
        },
        "id": "USxiip3DpIoE",
        "outputId": "4507c4f0-142b-4569-d8dd-ba5271555e89"
      },
      "execution_count": null,
      "outputs": [
        {
          "output_type": "stream",
          "name": "stdout",
          "text": [
            "63/63 [==============================] - 2s 17ms/step - loss: 0.4704 - accuracy: 0.5490\n",
            "Test accuracy: 0.5490196347236633\n"
          ]
        }
      ]
    },
    {
      "cell_type": "code",
      "source": [
        "# Insights\n",
        "\n",
        "data_1.corr()['Target']"
      ],
      "metadata": {
        "colab": {
          "base_uri": "https://localhost:8080/"
        },
        "id": "MsFnnudtER_J",
        "outputId": "e608d648-dd85-4cb8-9287-ca6a3364d940"
      },
      "execution_count": null,
      "outputs": [
        {
          "output_type": "execute_result",
          "data": {
            "text/plain": [
              "Marital status                                   -0.089804\n",
              "Application mode                                 -0.212025\n",
              "Application order                                 0.089791\n",
              "Course                                            0.007841\n",
              "Daytime/evening attendance                        0.075107\n",
              "Previous qualification                           -0.091365\n",
              "Nacionality                                      -0.004740\n",
              "Mother's qualification                           -0.038346\n",
              "Father's qualification                            0.000329\n",
              "Mother's occupation                               0.048424\n",
              "Father's occupation                               0.051702\n",
              "Displaced                                         0.113986\n",
              "Educational special needs                        -0.007353\n",
              "Debtor                                           -0.240999\n",
              "Tuition fees up to date                           0.409827\n",
              "Gender                                           -0.229270\n",
              "Scholarship holder                                0.297595\n",
              "Age at enrollment                                -0.243438\n",
              "International                                     0.003934\n",
              "Curricular units 1st sem (credited)               0.048150\n",
              "Curricular units 1st sem (enrolled)               0.155974\n",
              "Curricular units 1st sem (evaluations)            0.044362\n",
              "Curricular units 1st sem (approved)               0.529123\n",
              "Curricular units 1st sem (grade)                  0.485207\n",
              "Curricular units 1st sem (without evaluations)   -0.068702\n",
              "Curricular units 2nd sem (credited)               0.054004\n",
              "Curricular units 2nd sem (enrolled)               0.175847\n",
              "Curricular units 2nd sem (evaluations)            0.092721\n",
              "Curricular units 2nd sem (approved)               0.624157\n",
              "Curricular units 2nd sem (grade)                  0.566827\n",
              "Curricular units 2nd sem (without evaluations)   -0.094028\n",
              "Unemployment rate                                 0.008627\n",
              "Inflation rate                                   -0.026874\n",
              "GDP                                               0.044135\n",
              "Target                                            1.000000\n",
              "Name: Target, dtype: float64"
            ]
          },
          "metadata": {},
          "execution_count": 91
        }
      ]
    },
    {
      "cell_type": "code",
      "source": [
        "import matplotlib.pyplot as plt\n",
        "import seaborn as sns\n",
        "\n",
        "plt.figure(figsize=(4,4))\n",
        "sns.countplot(data=data_1, x='Gender', hue='Target')\n",
        "plt.xticks(ticks=[0, 1], labels=['Female', 'Male'])\n",
        "plt.show()"
      ],
      "metadata": {
        "colab": {
          "base_uri": "https://localhost:8080/",
          "height": 388
        },
        "id": "CktL33ob_I79",
        "outputId": "7a0ff992-3182-4e0a-cabf-68c7aeda5294"
      },
      "execution_count": null,
      "outputs": [
        {
          "output_type": "display_data",
          "data": {
            "text/plain": [
              "<Figure size 400x400 with 1 Axes>"
            ],
            "image/png": "[encoded data removed]"
          },
          "metadata": {}
        }
      ]
    },
    {
      "cell_type": "code",
      "source": [
        "plt.figure(figsize=(12,6))\n",
        "sns.countplot(data=data_1, x='Course', hue='Target')\n",
        "plt.show()"
      ],
      "metadata": {
        "colab": {
          "base_uri": "https://localhost:8080/",
          "height": 542
        },
        "id": "flGxo2pNAb94",
        "outputId": "86a81921-4a62-4ad7-bd0f-71ee5e451894"
      },
      "execution_count": null,
      "outputs": [
        {
          "output_type": "display_data",
          "data": {
            "text/plain": [
              "<Figure size 1200x600 with 1 Axes>"
            ],
            "image/png": "[encoded data removed]"
          },
          "metadata": {}
        }
      ]
    },
    {
      "cell_type": "code",
      "source": [
        "plt.figure(figsize=(12,6))\n",
        "sns.countplot(data=data_1, x=\"Mother's occupation\", hue='Target')\n",
        "plt.show()"
      ],
      "metadata": {
        "colab": {
          "base_uri": "https://localhost:8080/",
          "height": 542
        },
        "id": "Buo9_bcHGiRY",
        "outputId": "d3d72124-23d2-42f3-cca7-b766c3105192"
      },
      "execution_count": null,
      "outputs": [
        {
          "output_type": "display_data",
          "data": {
            "text/plain": [
              "<Figure size 1200x600 with 1 Axes>"
            ],
            "image/png": "[encoded data removed]"
          },
          "metadata": {}
        }
      ]
    },
    {
      "cell_type": "code",
      "source": [
        "# Marital Status based Insights\n",
        "\n",
        "plt.figure(figsize=(8,4))\n",
        "sns.countplot(data=data_1, x='Marital status', hue='Target')\n",
        "plt.xticks(ticks=range(6), labels=['single', 'married', 'widower', 'divorced', 'facto union', 'legally separated'])\n",
        "plt.show()"
      ],
      "metadata": {
        "colab": {
          "base_uri": "https://localhost:8080/",
          "height": 388
        },
        "id": "7yI9lZEqHTBp",
        "outputId": "1f275f5a-7d73-4df9-aff9-fc851aabf744"
      },
      "execution_count": null,
      "outputs": [
        {
          "output_type": "display_data",
          "data": {
            "text/plain": [
              "<Figure size 800x400 with 1 Axes>"
            ],
            "image/png": "[encoded data removed]"
          },
          "metadata": {}
        }
      ]
    },
    {
      "cell_type": "code",
      "source": [
        "prev_qual_labels = ['secondary_school', 'graduate', 'graduate', 'masters', 'doctorate', 'unknown', 'highschool', 'highschool', 'unknown', 'highschool', 'pre-highschool', 'highschool', 'pre-highschool', 'graduate', 'graduate', 'masters', 'masters']\n",
        "plt.figure(figsize=(20,6))\n",
        "sns.countplot(data=data_1, x=\"Previous qualification\", hue='Target')\n",
        "plt.xticks(ticks=range(len(prev_qual_labels)), labels=prev_qual_labels)\n",
        "plt.show()"
      ],
      "metadata": {
        "colab": {
          "base_uri": "https://localhost:8080/",
          "height": 417
        },
        "id": "hhL_eJKDJCi4",
        "outputId": "2905ceb0-0e88-41e3-9457-fc78b398569d"
      },
      "execution_count": null,
      "outputs": [
        {
          "output_type": "display_data",
          "data": {
            "text/plain": [
              "<Figure size 2000x600 with 1 Axes>"
            ],
            "image/png": "[encoded data removed]"
          },
          "metadata": {}
        }
      ]
    }
  ]
}